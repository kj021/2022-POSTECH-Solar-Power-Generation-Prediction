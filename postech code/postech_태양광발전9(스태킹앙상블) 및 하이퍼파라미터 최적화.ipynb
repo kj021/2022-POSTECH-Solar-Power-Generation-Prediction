{
  "cells": [
    {
      "cell_type": "code",
      "execution_count": 3,
      "id": "Q2fHPnOTvGOP",
      "metadata": {
        "colab": {
          "base_uri": "https://localhost:8080/"
        },
        "id": "Q2fHPnOTvGOP",
        "outputId": "604b186a-9f1f-4c61-c844-23223b221cbe"
      },
      "outputs": [
        {
          "name": "stdout",
          "output_type": "stream",
          "text": [
            "CUDA 사용 가능 여부 : True\n",
            "현재 사용 device : cuda:0\n",
            "CUDA Index : 0\n",
            "GPU 이름 : A100-SXM4-40GB\n",
            "GPU 개수 : 1\n"
          ]
        }
      ],
      "source": [
        "import torch\n",
        "\n",
        "USE_CUDA = torch.cuda.is_available()\n",
        "device = torch.device('cuda:0' if USE_CUDA else 'cpu')\n",
        "\n",
        "print('CUDA 사용 가능 여부 :', USE_CUDA)\n",
        "print('현재 사용 device :', device)\n",
        "print('CUDA Index :', torch.cuda.current_device())\n",
        "print('GPU 이름 :', torch.cuda.get_device_name())\n",
        "print('GPU 개수 :', torch.cuda.device_count())\n"
      ]
    },
    {
      "cell_type": "code",
      "execution_count": 1,
      "id": "8a6ad3c1",
      "metadata": {
        "id": "8a6ad3c1"
      },
      "outputs": [],
      "source": [
        "import pandas as pd\n",
        "import numpy as np\n",
        "from sklearn.model_selection import train_test_split\n",
        "from sklearn.linear_model import LinearRegression\n",
        "from sklearn.neural_network import MLPRegressor\n",
        "from sklearn.linear_model import Lasso\n",
        "from sklearn.linear_model import Ridge\n",
        "import xgboost as xgb\n",
        "from matplotlib import rc\n",
        "import matplotlib.pyplot as plt\n",
        "import seaborn as sns\n",
        "from sklearn.preprocessing import StandardScaler\n",
        "from sklearn.svm import SVR\n",
        "from sklearn.ensemble import RandomForestRegressor, StackingRegressor\n",
        "from sklearn.metrics import mean_squared_error\n",
        "from sklearn.model_selection import RandomizedSearchCV\n",
        "from scipy.stats import randint,expon,reciprocal\n",
        "import time\n",
        "import warnings\n",
        "warnings.filterwarnings('ignore')"
      ]
    },
    {
      "cell_type": "code",
      "execution_count": 4,
      "id": "91da0a59",
      "metadata": {
        "id": "91da0a59"
      },
      "outputs": [],
      "source": [
        "def make_table(weather_info_csv, num):\n",
        "    #df_electronic = pd.read_csv('/Users/gyujin/Library/CloudStorage/OneDrive-개인/POSTECH 테양열 발전 경진대회/cmpt2022_data1/gens.csv')\n",
        "    df_electronic = pd.read_csv('gens.csv')\n",
        "    df_electronic['time'] = df_electronic['time'].str.split('+').str[0]\n",
        "    df_electronic['time'] = pd.to_datetime(df_electronic['time'])\n",
        "    df_weather = pd.read_csv(weather_info_csv)\n",
        "    df_weather = df_weather.rename(columns = {'id' : 'weather_id'})\n",
        "    df_weather['time'] = df_weather['time'].str.split('+').str[0]\n",
        "    df_weather['time'] = pd.to_datetime(df_weather['time'])\n",
        "    df_num = df_electronic[df_electronic['id'] == num]\n",
        "    df_weather['time'] = df_weather['time'].dt.round(freq = 'H')  \n",
        "    df_weather.drop_duplicates(['time'], inplace = True)\n",
        "    df_info = pd.merge(df_weather,df_num, how='outer')\n",
        "    df_info = df_info.dropna()\n",
        "    df_info = df_info.drop(['id'], axis = 1)\n",
        "    return df_info"
      ]
    },
    {
      "cell_type": "code",
      "execution_count": 5,
      "id": "b28f0c27",
      "metadata": {
        "colab": {
          "base_uri": "https://localhost:8080/",
          "height": 515
        },
        "id": "b28f0c27",
        "outputId": "66415863-58df-4b2e-9af9-b4b4ab6e908c"
      },
      "outputs": [],
      "source": [
        "#df_11 = make_table('/Users/gyujin/Library/CloudStorage/OneDrive-개인/POSTECH 테양열 발전 경진대회/발전소날씨/발전소11_기상정보.csv', 11)\n",
        "df_11 = make_table('발전소11_기상정보.csv', 11)\n",
        "df_12 = make_table('발전소12_기상정보.csv', 12)\n",
        "df_13 = make_table('발전소13_기상정보.csv', 13)\n",
        "df_14 = make_table('발전소14_기상정보.csv', 14)\n",
        "df_17 = make_table('발전소17_기상정보.csv', 17)"
      ]
    },
    {
      "cell_type": "code",
      "execution_count": 6,
      "id": "aQIZHSmHIyqQ",
      "metadata": {
        "colab": {
          "base_uri": "https://localhost:8080/",
          "height": 835
        },
        "id": "aQIZHSmHIyqQ",
        "outputId": "65cad592-6fd0-4559-bd0d-815a2fe5103e"
      },
      "outputs": [
        {
          "data": {
            "text/html": [
              "<div>\n",
              "<style scoped>\n",
              "    .dataframe tbody tr th:only-of-type {\n",
              "        vertical-align: middle;\n",
              "    }\n",
              "\n",
              "    .dataframe tbody tr th {\n",
              "        vertical-align: top;\n",
              "    }\n",
              "\n",
              "    .dataframe thead th {\n",
              "        text-align: right;\n",
              "    }\n",
              "</style>\n",
              "<table border=\"1\" class=\"dataframe\">\n",
              "  <thead>\n",
              "    <tr style=\"text-align: right;\">\n",
              "      <th></th>\n",
              "      <th>weather_id</th>\n",
              "      <th>time</th>\n",
              "      <th>temperature</th>\n",
              "      <th>humidity</th>\n",
              "      <th>dew_point</th>\n",
              "      <th>wind_dir</th>\n",
              "      <th>wind_spd</th>\n",
              "      <th>uv_idx</th>\n",
              "      <th>visibility</th>\n",
              "      <th>cloudiness</th>\n",
              "      <th>ceiling</th>\n",
              "      <th>pressure</th>\n",
              "      <th>precip_1h</th>\n",
              "      <th>amount</th>\n",
              "    </tr>\n",
              "  </thead>\n",
              "  <tbody>\n",
              "    <tr>\n",
              "      <th>1</th>\n",
              "      <td>12.0</td>\n",
              "      <td>2020-10-01 01:00:00</td>\n",
              "      <td>15.4</td>\n",
              "      <td>90.0</td>\n",
              "      <td>13.9</td>\n",
              "      <td>68.0</td>\n",
              "      <td>3.0</td>\n",
              "      <td>0.0</td>\n",
              "      <td>12.9</td>\n",
              "      <td>51.0</td>\n",
              "      <td>9144.0</td>\n",
              "      <td>1012.0</td>\n",
              "      <td>0.0</td>\n",
              "      <td>0.0</td>\n",
              "    </tr>\n",
              "    <tr>\n",
              "      <th>2</th>\n",
              "      <td>12.0</td>\n",
              "      <td>2020-10-01 02:00:00</td>\n",
              "      <td>15.1</td>\n",
              "      <td>97.0</td>\n",
              "      <td>14.6</td>\n",
              "      <td>45.0</td>\n",
              "      <td>3.4</td>\n",
              "      <td>0.0</td>\n",
              "      <td>14.5</td>\n",
              "      <td>100.0</td>\n",
              "      <td>9144.0</td>\n",
              "      <td>1012.0</td>\n",
              "      <td>0.0</td>\n",
              "      <td>0.0</td>\n",
              "    </tr>\n",
              "    <tr>\n",
              "      <th>3</th>\n",
              "      <td>12.0</td>\n",
              "      <td>2020-10-01 03:00:00</td>\n",
              "      <td>14.9</td>\n",
              "      <td>98.0</td>\n",
              "      <td>14.6</td>\n",
              "      <td>135.0</td>\n",
              "      <td>5.0</td>\n",
              "      <td>0.0</td>\n",
              "      <td>11.3</td>\n",
              "      <td>100.0</td>\n",
              "      <td>9144.0</td>\n",
              "      <td>1013.0</td>\n",
              "      <td>0.0</td>\n",
              "      <td>0.0</td>\n",
              "    </tr>\n",
              "    <tr>\n",
              "      <th>4</th>\n",
              "      <td>12.0</td>\n",
              "      <td>2020-10-01 04:00:00</td>\n",
              "      <td>14.7</td>\n",
              "      <td>93.0</td>\n",
              "      <td>13.6</td>\n",
              "      <td>68.0</td>\n",
              "      <td>4.2</td>\n",
              "      <td>0.0</td>\n",
              "      <td>11.3</td>\n",
              "      <td>91.0</td>\n",
              "      <td>9144.0</td>\n",
              "      <td>1013.0</td>\n",
              "      <td>0.0</td>\n",
              "      <td>0.0</td>\n",
              "    </tr>\n",
              "    <tr>\n",
              "      <th>5</th>\n",
              "      <td>12.0</td>\n",
              "      <td>2020-10-01 05:00:00</td>\n",
              "      <td>14.5</td>\n",
              "      <td>99.0</td>\n",
              "      <td>14.3</td>\n",
              "      <td>113.0</td>\n",
              "      <td>5.3</td>\n",
              "      <td>0.0</td>\n",
              "      <td>11.3</td>\n",
              "      <td>99.0</td>\n",
              "      <td>9144.0</td>\n",
              "      <td>1012.0</td>\n",
              "      <td>0.0</td>\n",
              "      <td>0.0</td>\n",
              "    </tr>\n",
              "    <tr>\n",
              "      <th>...</th>\n",
              "      <td>...</td>\n",
              "      <td>...</td>\n",
              "      <td>...</td>\n",
              "      <td>...</td>\n",
              "      <td>...</td>\n",
              "      <td>...</td>\n",
              "      <td>...</td>\n",
              "      <td>...</td>\n",
              "      <td>...</td>\n",
              "      <td>...</td>\n",
              "      <td>...</td>\n",
              "      <td>...</td>\n",
              "      <td>...</td>\n",
              "      <td>...</td>\n",
              "    </tr>\n",
              "    <tr>\n",
              "      <th>17744</th>\n",
              "      <td>18.0</td>\n",
              "      <td>2022-10-23 20:00:00</td>\n",
              "      <td>11.6</td>\n",
              "      <td>63.0</td>\n",
              "      <td>4.8</td>\n",
              "      <td>338.0</td>\n",
              "      <td>5.8</td>\n",
              "      <td>0.0</td>\n",
              "      <td>16.1</td>\n",
              "      <td>6.0</td>\n",
              "      <td>12192.0</td>\n",
              "      <td>1020.0</td>\n",
              "      <td>0.0</td>\n",
              "      <td>0.0</td>\n",
              "    </tr>\n",
              "    <tr>\n",
              "      <th>17745</th>\n",
              "      <td>18.0</td>\n",
              "      <td>2022-10-23 21:00:00</td>\n",
              "      <td>12.5</td>\n",
              "      <td>49.0</td>\n",
              "      <td>2.1</td>\n",
              "      <td>338.0</td>\n",
              "      <td>4.3</td>\n",
              "      <td>0.0</td>\n",
              "      <td>16.1</td>\n",
              "      <td>0.0</td>\n",
              "      <td>12192.0</td>\n",
              "      <td>1020.0</td>\n",
              "      <td>0.0</td>\n",
              "      <td>0.0</td>\n",
              "    </tr>\n",
              "    <tr>\n",
              "      <th>17746</th>\n",
              "      <td>18.0</td>\n",
              "      <td>2022-10-23 22:00:00</td>\n",
              "      <td>11.6</td>\n",
              "      <td>52.0</td>\n",
              "      <td>2.2</td>\n",
              "      <td>338.0</td>\n",
              "      <td>4.3</td>\n",
              "      <td>0.0</td>\n",
              "      <td>20.9</td>\n",
              "      <td>5.0</td>\n",
              "      <td>12192.0</td>\n",
              "      <td>1021.0</td>\n",
              "      <td>0.0</td>\n",
              "      <td>0.0</td>\n",
              "    </tr>\n",
              "    <tr>\n",
              "      <th>17747</th>\n",
              "      <td>18.0</td>\n",
              "      <td>2022-10-23 23:00:00</td>\n",
              "      <td>10.2</td>\n",
              "      <td>56.0</td>\n",
              "      <td>1.9</td>\n",
              "      <td>338.0</td>\n",
              "      <td>4.3</td>\n",
              "      <td>0.0</td>\n",
              "      <td>16.1</td>\n",
              "      <td>5.0</td>\n",
              "      <td>12192.0</td>\n",
              "      <td>1021.0</td>\n",
              "      <td>0.0</td>\n",
              "      <td>0.0</td>\n",
              "    </tr>\n",
              "    <tr>\n",
              "      <th>17748</th>\n",
              "      <td>18.0</td>\n",
              "      <td>2022-10-24 00:00:00</td>\n",
              "      <td>8.4</td>\n",
              "      <td>68.0</td>\n",
              "      <td>2.8</td>\n",
              "      <td>338.0</td>\n",
              "      <td>0.7</td>\n",
              "      <td>0.0</td>\n",
              "      <td>16.1</td>\n",
              "      <td>2.0</td>\n",
              "      <td>12192.0</td>\n",
              "      <td>1021.0</td>\n",
              "      <td>0.0</td>\n",
              "      <td>0.0</td>\n",
              "    </tr>\n",
              "  </tbody>\n",
              "</table>\n",
              "<p>88717 rows × 14 columns</p>\n",
              "</div>"
            ],
            "text/plain": [
              "       weather_id                time  temperature  humidity  dew_point  \\\n",
              "1            12.0 2020-10-01 01:00:00         15.4      90.0       13.9   \n",
              "2            12.0 2020-10-01 02:00:00         15.1      97.0       14.6   \n",
              "3            12.0 2020-10-01 03:00:00         14.9      98.0       14.6   \n",
              "4            12.0 2020-10-01 04:00:00         14.7      93.0       13.6   \n",
              "5            12.0 2020-10-01 05:00:00         14.5      99.0       14.3   \n",
              "...           ...                 ...          ...       ...        ...   \n",
              "17744        18.0 2022-10-23 20:00:00         11.6      63.0        4.8   \n",
              "17745        18.0 2022-10-23 21:00:00         12.5      49.0        2.1   \n",
              "17746        18.0 2022-10-23 22:00:00         11.6      52.0        2.2   \n",
              "17747        18.0 2022-10-23 23:00:00         10.2      56.0        1.9   \n",
              "17748        18.0 2022-10-24 00:00:00          8.4      68.0        2.8   \n",
              "\n",
              "       wind_dir  wind_spd  uv_idx  visibility  cloudiness  ceiling  pressure  \\\n",
              "1          68.0       3.0     0.0        12.9        51.0   9144.0    1012.0   \n",
              "2          45.0       3.4     0.0        14.5       100.0   9144.0    1012.0   \n",
              "3         135.0       5.0     0.0        11.3       100.0   9144.0    1013.0   \n",
              "4          68.0       4.2     0.0        11.3        91.0   9144.0    1013.0   \n",
              "5         113.0       5.3     0.0        11.3        99.0   9144.0    1012.0   \n",
              "...         ...       ...     ...         ...         ...      ...       ...   \n",
              "17744     338.0       5.8     0.0        16.1         6.0  12192.0    1020.0   \n",
              "17745     338.0       4.3     0.0        16.1         0.0  12192.0    1020.0   \n",
              "17746     338.0       4.3     0.0        20.9         5.0  12192.0    1021.0   \n",
              "17747     338.0       4.3     0.0        16.1         5.0  12192.0    1021.0   \n",
              "17748     338.0       0.7     0.0        16.1         2.0  12192.0    1021.0   \n",
              "\n",
              "       precip_1h  amount  \n",
              "1            0.0     0.0  \n",
              "2            0.0     0.0  \n",
              "3            0.0     0.0  \n",
              "4            0.0     0.0  \n",
              "5            0.0     0.0  \n",
              "...          ...     ...  \n",
              "17744        0.0     0.0  \n",
              "17745        0.0     0.0  \n",
              "17746        0.0     0.0  \n",
              "17747        0.0     0.0  \n",
              "17748        0.0     0.0  \n",
              "\n",
              "[88717 rows x 14 columns]"
            ]
          },
          "execution_count": 6,
          "metadata": {},
          "output_type": "execute_result"
        }
      ],
      "source": [
        "df_total = pd.concat([df_11,df_12,df_13,df_14,df_17])\n",
        "df_total"
      ]
    },
    {
      "cell_type": "code",
      "execution_count": 8,
      "id": "c035ea0a",
      "metadata": {
        "id": "c035ea0a"
      },
      "outputs": [],
      "source": [
        "x = df_total.iloc[:, 2 : 13]\n",
        "y = df_total.iloc[:, -1]\n",
        "X_train, X_test, y_train, y_test = train_test_split(x, y, test_size=0.2, random_state = 1) "
      ]
    },
    {
      "cell_type": "code",
      "execution_count": 9,
      "id": "98024afa",
      "metadata": {
        "colab": {
          "base_uri": "https://localhost:8080/",
          "height": 444
        },
        "id": "98024afa",
        "outputId": "d2746367-df02-4462-e191-26b4ab79d28e"
      },
      "outputs": [],
      "source": [
        "param_distribs = {\n",
        "      'n_estimators': randint(low = 1, high = 200),\n",
        "        'max_depth' : randint(low = 1, high = 200),\n",
        "      'max_features': randint(low = 1, high = 8),\n",
        "  }\n",
        "forest_reg = RandomForestRegressor(random_state = 42)\n",
        "rnd_search = RandomizedSearchCV(forest_reg, param_distributions=param_distribs, n_iter=10, cv=5, scoring='neg_mean_squared_error', random_state=42)\n",
        "rnd_search.fit(X_train, y_train)"
      ]
    },
    {
      "cell_type": "code",
      "execution_count": null,
      "id": "29eccbff",
      "metadata": {
        "id": "29eccbff"
      },
      "outputs": [],
      "source": [
        "rnd_search.best_params_ #randomforest regressor"
      ]
    },
    {
      "cell_type": "code",
      "execution_count": null,
      "id": "581b599a",
      "metadata": {
        "id": "581b599a"
      },
      "outputs": [],
      "source": [
        "param_distribs = {\n",
        " 'n_estimators': [ 500, 1000 ],\n",
        " \"learning_rate\"    : [ 0.02, 0.05 ] ,\n",
        " \"max_depth\"        : [ 3, 5 ],\n",
        " \"min_child_weight\" : [ 2, 4 ],\n",
        " \"gamma\"            : [ 0.05 ],\n",
        " 'subsample' : [ 0.6, 0.8 ]}\n",
        "\n",
        "xgb_reg=xgb.XGBRegressor()\n",
        "rnd_search = RandomizedSearchCV(xgb_reg, param_distributions=param_distribs, n_iter=10, cv=5, scoring='neg_mean_squared_error',random_state=42)\n",
        "rnd_search.fit(X_train, y_train)"
      ]
    },
    {
      "cell_type": "code",
      "execution_count": null,
      "id": "315457da",
      "metadata": {
        "id": "315457da"
      },
      "outputs": [],
      "source": [
        "rnd_search.best_params_ #XGB regressor"
      ]
    },
    {
      "cell_type": "code",
      "execution_count": null,
      "id": "B7vRt-r0yk7P",
      "metadata": {
        "id": "B7vRt-r0yk7P"
      },
      "outputs": [],
      "source": [
        "\"\"\"param_distribs = {\n",
        "    'kernel': ['linear','rbf','poly'],\n",
        "    'C' :randint(low=0.01,high=10),\n",
        "    'gamma' : randint(low=0.01,high=10),\n",
        "}\n",
        "svm_reg =SVR()\n",
        "#svm_reg.get_params().keys()\n",
        "rnd_search = RandomizedSearchCV(svm_reg,param_distributions=param_distribs,n_iter=10,cv=5,scoring=\"neg_mean_squared_error\")\n",
        "rnd_search.fit(X_train,y_train)\"\"\""
      ]
    },
    {
      "cell_type": "code",
      "execution_count": null,
      "id": "pa2tf50Ayvic",
      "metadata": {
        "id": "pa2tf50Ayvic"
      },
      "outputs": [],
      "source": [
        "\"\"\"rnd_search.best_params_ #svm regressor\"\"\""
      ]
    },
    {
      "cell_type": "code",
      "execution_count": null,
      "id": "ufa3jx5k25wp",
      "metadata": {
        "id": "ufa3jx5k25wp"
      },
      "outputs": [],
      "source": [
        "param_distribs = {'alpha': randint(low=0.00001, high=10)}\n",
        "lasso_reg=Lasso()\n",
        "rnd_search = RandomizedSearchCV(lasso_reg, param_distributions=param_distribs, n_iter=10, cv=5, scoring='neg_mean_squared_error')\n",
        "rnd_search.fit(X_train, y_train)"
      ]
    },
    {
      "cell_type": "code",
      "execution_count": null,
      "id": "_57_urmZ5O2f",
      "metadata": {
        "id": "_57_urmZ5O2f"
      },
      "outputs": [],
      "source": [
        "rnd_search.best_params_ #lasso "
      ]
    },
    {
      "cell_type": "code",
      "execution_count": null,
      "id": "_qigimgA6JiE",
      "metadata": {
        "id": "_qigimgA6JiE"
      },
      "outputs": [],
      "source": [
        "param_distribs = {'alpha': randint(low=0.001, high=100)}\n",
        "Ridge_reg=Ridge()\n",
        "rnd_search = RandomizedSearchCV(Ridge_reg, param_distributions=param_distribs, n_iter=10, cv=5, scoring='neg_mean_squared_error')\n",
        "rnd_search.fit(X_train, y_train)"
      ]
    },
    {
      "cell_type": "code",
      "execution_count": null,
      "id": "E5eLAORR61FG",
      "metadata": {
        "id": "E5eLAORR61FG"
      },
      "outputs": [],
      "source": [
        "rnd_search.best_params_ #ridge"
      ]
    },
    {
      "cell_type": "code",
      "execution_count": null,
      "id": "rsjzGyqV3qUS",
      "metadata": {
        "id": "rsjzGyqV3qUS"
      },
      "outputs": [],
      "source": [
        "#('SVR',SVR(kernel='poly',gamma=0.1)),\n",
        "#('Lasso',Lasso(alpha=0)),"
      ]
    },
    {
      "cell_type": "code",
      "execution_count": 19,
      "id": "7bbf75d6",
      "metadata": {
        "id": "7bbf75d6"
      },
      "outputs": [],
      "source": [
        "base_models = [\n",
        "    ('XGB', xgb.XGBRegressor(subsample=0.6,n_estimators=1000,min_child_weight=4,max_depth=5,learning_rate=0.05,gamma=0.05)),\n",
        "    ('Random Forest',RandomForestRegressor(random_state =1, max_features = 5, n_estimators = 103, max_depth = 189)),\n",
        "    ('MLP Regression',MLPRegressor(random_state=1, max_iter=500)),\n",
        "    ('Ridge',Ridge(alpha=16))\n",
        "    ]\n",
        "stacked = StackingRegressor(\n",
        "    estimators = base_models,\n",
        "    final_estimator = LinearRegression(), cv = 5)"
      ]
    },
    {
      "cell_type": "code",
      "execution_count": 20,
      "id": "2833b9e5",
      "metadata": {
        "colab": {
          "base_uri": "https://localhost:8080/"
        },
        "id": "2833b9e5",
        "outputId": "e618cd82-fb8c-4a83-f6b6-815557bfdc70"
      },
      "outputs": [
        {
          "name": "stdout",
          "output_type": "stream",
          "text": [
            "[08:19:44] WARNING: /workspace/src/objective/regression_obj.cu:152: reg:linear is now deprecated in favor of reg:squarederror.\n",
            "-------XGB-------\n",
            "Coefficient of determination: 0.893795099569257\n",
            "Root Mean Squared Error: 0.32885376116532017\n",
            "Computation Time: 99.86375641822815\n",
            "----------------------------------\n",
            "\n",
            "-------Random Forest-------\n",
            "Coefficient of determination: 0.8930841553288367\n",
            "Root Mean Squared Error: 0.3299526121934088\n",
            "Computation Time: 16.35642671585083\n",
            "----------------------------------\n",
            "\n",
            "-------MLP Regression-------\n",
            "Coefficient of determination: 0.8784421630939435\n",
            "Root Mean Squared Error: 0.35182120919947246\n",
            "Computation Time: 25.44287919998169\n",
            "----------------------------------\n",
            "\n",
            "-------Ridge-------\n",
            "Coefficient of determination: 0.752468735632141\n",
            "Root Mean Squared Error: 0.5020483745955029\n",
            "Computation Time: 0.020652294158935547\n",
            "----------------------------------\n",
            "\n",
            "[08:22:07] WARNING: /workspace/src/objective/regression_obj.cu:152: reg:linear is now deprecated in favor of reg:squarederror.\n",
            "[08:23:36] WARNING: /workspace/src/objective/regression_obj.cu:152: reg:linear is now deprecated in favor of reg:squarederror.\n",
            "[08:24:15] WARNING: /workspace/src/objective/regression_obj.cu:152: reg:linear is now deprecated in favor of reg:squarederror.\n",
            "[08:24:55] WARNING: /workspace/src/objective/regression_obj.cu:152: reg:linear is now deprecated in favor of reg:squarederror.\n",
            "[08:25:34] WARNING: /workspace/src/objective/regression_obj.cu:152: reg:linear is now deprecated in favor of reg:squarederror.\n",
            "[08:26:13] WARNING: /workspace/src/objective/regression_obj.cu:152: reg:linear is now deprecated in favor of reg:squarederror.\n",
            "-------Stacked Ensemble-------\n",
            "Coefficient of determination: 0.8964248049575992\n",
            "Root Mean Squared Error: 0.32475692095485564\n",
            "Computation Time: 457.0785837173462\n",
            "----------------------------------\n"
          ]
        }
      ],
      "source": [
        "for name, model in base_models:\n",
        "    start_time = time.time()\n",
        "    model.fit(X_train, y_train)\n",
        "    prediction = model.predict(X_test)\n",
        "    end_time = time.time()\n",
        "    \n",
        "    r2 = model.score(X_test, y_test)\n",
        "    rmse = mean_squared_error(y_test, prediction, squared = False)\n",
        "    \n",
        "    print(\"-------{}-------\".format(name))\n",
        "    print(\"Coefficient of determination: {}\".format(r2))\n",
        "    print(\"Root Mean Squared Error: {}\".format(rmse))\n",
        "    print(\"Computation Time: {}\".format(end_time - start_time))\n",
        "    print(\"----------------------------------\\n\")\n",
        "start_time = time.time()\n",
        "stacked.fit(X_train, y_train)    \n",
        "stacked_prediction = stacked.predict(X_test)\n",
        "end_time = time.time()\n",
        "stacked_r2 = stacked.score(X_test, y_test)\n",
        "stacked_rmse = mean_squared_error(y_test, stacked_prediction, squared = False)\n",
        "print(\"-------Stacked Ensemble-------\")\n",
        "print(\"Coefficient of determination: {}\".format(stacked_r2))\n",
        "print(\"Root Mean Squared Error: {}\".format(stacked_rmse))\n",
        "print(\"Computation Time: {}\".format(end_time - start_time))\n",
        "print(\"----------------------------------\")"
      ]
    },
    {
      "cell_type": "code",
      "execution_count": null,
      "id": "b1315c2c",
      "metadata": {
        "id": "b1315c2c"
      },
      "outputs": [],
      "source": [
        "#기본모델(xgb,randomforest,mlp)\n",
        "#모델 4개 ,svr 포함 Coefficient of determination: 0.9019551471168702\n",
        "#모델 3개 svr 제외 0.9019532732882437\n",
        "#모델 4개 lasso 추가 0.9019542875695038\n",
        "#모델 5개 lasso,rigde 추가 0.9019550196646348\n",
        "#모델 4개 ridge 추가 0.9019540144584349\n"
      ]
    },
    {
      "cell_type": "markdown",
      "id": "LPoq8XW7Ou9x",
      "metadata": {
        "id": "LPoq8XW7Ou9x"
      },
      "source": [
        "1. 11월 9일 데이터프레임 불러오기\n",
        "2. 불러온 데이터프레임 X넣기(발전량 제외해서)\n",
        "3. 학습시킨 스테킹 모델 돌리기\n",
        "4. 예측한 데이터 데이터프레임으로 뽑아서 실제 발전량과 비교해보기"
      ]
    },
    {
      "cell_type": "code",
      "execution_count": 21,
      "id": "xSOnoywqa_S2",
      "metadata": {
        "colab": {
          "base_uri": "https://localhost:8080/"
        },
        "id": "xSOnoywqa_S2",
        "outputId": "d4554437-e978-46eb-cce0-932eecf790d3"
      },
      "outputs": [
        {
          "data": {
            "text/plain": [
              "['./stacked_11~14.pkl']"
            ]
          },
          "execution_count": 21,
          "metadata": {},
          "output_type": "execute_result"
        }
      ],
      "source": [
        "import joblib\n",
        "joblib.dump(model, './stacked_11~14.pkl')"
      ]
    },
    {
      "cell_type": "code",
      "execution_count": 22,
      "id": "zbyvMOdmbNy7",
      "metadata": {
        "id": "zbyvMOdmbNy7"
      },
      "outputs": [],
      "source": [
        "loaded_model = joblib.load('./stacked_11~14.pkl')\n"
      ]
    },
    {
      "cell_type": "code",
      "execution_count": 85,
      "id": "ruAh9rkrOjJy",
      "metadata": {
        "colab": {
          "base_uri": "https://localhost:8080/"
        },
        "id": "ruAh9rkrOjJy",
        "outputId": "b88923e8-ebeb-46d6-df34-e2949bbdc447"
      },
      "outputs": [
        {
          "name": "stdout",
          "output_type": "stream",
          "text": [
            "<class 'pandas.core.frame.DataFrame'>\n",
            "RangeIndex: 17 entries, 0 to 16\n",
            "Data columns (total 14 columns):\n",
            " #   Column       Non-Null Count  Dtype  \n",
            "---  ------       --------------  -----  \n",
            " 0   id           17 non-null     int64  \n",
            " 1   time         17 non-null     object \n",
            " 2   temperature  17 non-null     float64\n",
            " 3   humidity     17 non-null     int64  \n",
            " 4   dew_point    17 non-null     float64\n",
            " 5   wind_dir     17 non-null     int64  \n",
            " 6   wind_spd     17 non-null     float64\n",
            " 7   uv_idx       17 non-null     int64  \n",
            " 8   visibility   17 non-null     float64\n",
            " 9   cloudiness   17 non-null     int64  \n",
            " 10  ceiling      17 non-null     int64  \n",
            " 11  pressure     17 non-null     float64\n",
            " 12  precip_1h    17 non-null     int64  \n",
            " 13  amount       17 non-null     int64  \n",
            "dtypes: float64(5), int64(8), object(1)\n",
            "memory usage: 2.0+ KB\n"
          ]
        }
      ],
      "source": [
        "x_1109 = pd.read_csv(\"train1109.csv\")\n",
        "x_1109.info()"
      ]
    },
    {
      "cell_type": "code",
      "execution_count": 88,
      "id": "B4cBq50bvMft",
      "metadata": {
        "id": "B4cBq50bvMft"
      },
      "outputs": [],
      "source": [
        "x_1109['time'] = x_1109['time'].str.split('+').str[0]\n",
        "x_1109['time'] = pd.to_datetime(x_1109['time'])"
      ]
    },
    {
      "cell_type": "code",
      "execution_count": 89,
      "id": "OsldOpr5yCfm",
      "metadata": {
        "id": "OsldOpr5yCfm"
      },
      "outputs": [],
      "source": [
        "x_1109['time']=x_1109[\"time\"].values.astype(\"float\")"
      ]
    },
    {
      "cell_type": "code",
      "execution_count": 92,
      "id": "KMG2J7zlzWV9",
      "metadata": {
        "colab": {
          "base_uri": "https://localhost:8080/"
        },
        "id": "KMG2J7zlzWV9",
        "outputId": "2f8acaa2-c15a-4f02-e6de-cec3eae50eed"
      },
      "outputs": [
        {
          "name": "stdout",
          "output_type": "stream",
          "text": [
            "<class 'pandas.core.frame.DataFrame'>\n",
            "RangeIndex: 17 entries, 0 to 16\n",
            "Data columns (total 14 columns):\n",
            " #   Column       Non-Null Count  Dtype  \n",
            "---  ------       --------------  -----  \n",
            " 0   id           17 non-null     int64  \n",
            " 1   time         17 non-null     float64\n",
            " 2   temperature  17 non-null     float64\n",
            " 3   humidity     17 non-null     int64  \n",
            " 4   dew_point    17 non-null     float64\n",
            " 5   wind_dir     17 non-null     int64  \n",
            " 6   wind_spd     17 non-null     float64\n",
            " 7   uv_idx       17 non-null     int64  \n",
            " 8   visibility   17 non-null     float64\n",
            " 9   cloudiness   17 non-null     int64  \n",
            " 10  ceiling      17 non-null     int64  \n",
            " 11  pressure     17 non-null     float64\n",
            " 12  precip_1h    17 non-null     int64  \n",
            " 13  amount       17 non-null     int64  \n",
            "dtypes: float64(6), int64(8)\n",
            "memory usage: 2.0 KB\n"
          ]
        }
      ],
      "source": [
        "x_1109.info()"
      ]
    },
    {
      "cell_type": "code",
      "execution_count": 95,
      "id": "S0xT3iCqtYIq",
      "metadata": {
        "id": "S0xT3iCqtYIq"
      },
      "outputs": [],
      "source": [
        "train_1109 = x_1109.iloc[:, 2 : 13]"
      ]
    },
    {
      "cell_type": "code",
      "execution_count": 99,
      "id": "fiqPfnJrzm9-",
      "metadata": {
        "colab": {
          "base_uri": "https://localhost:8080/"
        },
        "id": "fiqPfnJrzm9-",
        "outputId": "d5cd61de-e4b5-4448-96db-ec6feb476919"
      },
      "outputs": [
        {
          "data": {
            "text/plain": [
              "array([[-0.22148805, -0.05263462, -0.48659133,  0.65955452, -0.75818166,\n",
              "        -0.73854895,  1.04274033, -1.54805975,  1.63057664,  0.23342489,\n",
              "         0.        ],\n",
              "       [-0.37947254,  0.24562821, -0.42041491,  0.83914074, -0.90300288,\n",
              "        -0.73854895, -0.4803076 , -1.7635207 , -0.22233429, -2.10082401,\n",
              "         0.        ],\n",
              "       [-0.53745702, -0.27633174, -1.54541407,  0.65955452,  0.32797746,\n",
              "        -0.73854895, -0.81876269,  1.1913723 , -0.59285569,  0.23342489,\n",
              "         0.        ],\n",
              "       [-1.22205645,  1.28954811, -0.94982628,  0.83914074, -1.19264531,\n",
              "        -0.73854895,  0.36583014, -1.05557758, -0.22233429, -0.23342489,\n",
              "         0.        ],\n",
              "       [-1.06407197,  0.46932533, -1.67776691, -1.79999594, -0.68577106,\n",
              "        -0.73854895, -0.98799024, -1.08635772, -1.23207348,  0.23342489,\n",
              "         0.        ],\n",
              "       [-1.09040271,  1.28954811, -0.61894417,  0.65955452, -0.03407558,\n",
              "        -0.73854895, -0.98799024,  1.1913723 , -1.23207348,  0.23342489,\n",
              "         0.        ],\n",
              "       [-0.87975673,  0.91671957, -0.61894417,  0.65955452, -0.03407558,\n",
              "        -0.73854895, -0.98799024,  1.1913723 , -1.60289883,  0.23342489,\n",
              "         0.        ],\n",
              "       [-0.85342599,  0.69302245, -0.88364986, -1.62040971, -0.61336045,\n",
              "        -0.73854895, -0.31108005, -1.14791799, -0.22233429,  0.23342489,\n",
              "         0.        ],\n",
              "       [-0.72177225,  0.76758816, -0.42041491, -1.62040971, -1.19264531,\n",
              "        -0.73854895, -1.15721778, -0.65543582, -0.22233429,  0.23342489,\n",
              "         0.        ],\n",
              "       [-0.43213403,  0.84215387,  0.30752572, -1.79999594, -0.1788968 ,\n",
              "        -0.73854895, -0.98799024,  1.1913723 , -1.60289883,  1.40054934,\n",
              "         0.        ],\n",
              "       [-0.11616506,  0.54389104,  0.77076067,  0.48777639, -0.46853923,\n",
              "         0.30772873, -0.31108005,  0.29874837,  1.63057664,  1.40054934,\n",
              "         0.        ],\n",
              "       [ 0.51577287,  0.0964968 ,  1.63105414,  0.65955452,  0.25556685,\n",
              "         1.3540064 , -0.31108005,  0.2371881 ,  1.07464257,  1.40054934,\n",
              "         0.        ],\n",
              "       [ 0.96339558, -0.72372598,  1.23399562,  0.13641204, -0.46853923,\n",
              "         0.30772873,  0.36583014,  1.06825176,  0.70412117,  0.23342489,\n",
              "         0.        ],\n",
              "       [ 1.22670305, -0.9474231 ,  1.4987013 , -0.56631666,  0.18315624,\n",
              "         2.40028407,  1.04274033,  0.11406756,  0.16672837,  0.23342489,\n",
              "         0.        ],\n",
              "       [ 1.51634127, -1.61851446,  0.70458425,  0.65955452,  2.21065328,\n",
              "         1.3540064 ,  1.04274033,  0.29874837,  0.53724976, -0.93369956,\n",
              "         0.        ],\n",
              "       [ 1.80597949, -1.99134299,  0.57223141,  0.65955452,  1.63136841,\n",
              "         1.3540064 ,  1.04274033, -0.13217352,  0.70412117, -0.93369956,\n",
              "         0.        ],\n",
              "       [ 1.49001053, -1.54394875,  0.90311351,  0.48777639,  1.92101084,\n",
              "         0.30772873,  2.43886759,  0.60654973,  0.70412117, -2.10082401,\n",
              "         0.        ]])"
            ]
          },
          "execution_count": 99,
          "metadata": {},
          "output_type": "execute_result"
        }
      ],
      "source": [
        "Train_1109 = scaler.fit_transform(train_1109)\n",
        "Train_1109"
      ]
    },
    {
      "cell_type": "code",
      "execution_count": 97,
      "id": "P2qo2EvnaJaL",
      "metadata": {
        "colab": {
          "base_uri": "https://localhost:8080/"
        },
        "id": "P2qo2EvnaJaL",
        "outputId": "d1e2762f-ec48-4f6e-d7e4-8e8d151f496d"
      },
      "outputs": [
        {
          "data": {
            "text/plain": [
              "array([-0.58561633, -0.65626718, -0.57886263, -0.66546291, -0.69413067,\n",
              "       -0.62758706, -0.62885954, -0.67009587, -0.66680251, -0.53777858,\n",
              "        0.38919965,  1.17690558,  0.90852518,  1.60885888,  1.52128247,\n",
              "        1.34150398,  0.70840252])"
            ]
          },
          "execution_count": 97,
          "metadata": {},
          "output_type": "execute_result"
        }
      ],
      "source": [
        "stacked_prediction = stacked.predict(Train_1109)\n",
        "stacked_prediction"
      ]
    },
    {
      "cell_type": "code",
      "execution_count": 98,
      "id": "l4gOyu46bZLc",
      "metadata": {
        "colab": {
          "base_uri": "https://localhost:8080/",
          "height": 582
        },
        "id": "l4gOyu46bZLc",
        "outputId": "24cde6d8-8d12-47fd-aff2-ee136e200470"
      },
      "outputs": [
        {
          "data": {
            "text/html": [
              "\n",
              "  <div id=\"df-1ef5ef0b-f208-471a-b101-c48250730b66\">\n",
              "    <div class=\"colab-df-container\">\n",
              "      <div>\n",
              "<style scoped>\n",
              "    .dataframe tbody tr th:only-of-type {\n",
              "        vertical-align: middle;\n",
              "    }\n",
              "\n",
              "    .dataframe tbody tr th {\n",
              "        vertical-align: top;\n",
              "    }\n",
              "\n",
              "    .dataframe thead th {\n",
              "        text-align: right;\n",
              "    }\n",
              "</style>\n",
              "<table border=\"1\" class=\"dataframe\">\n",
              "  <thead>\n",
              "    <tr style=\"text-align: right;\">\n",
              "      <th></th>\n",
              "      <th>0</th>\n",
              "    </tr>\n",
              "  </thead>\n",
              "  <tbody>\n",
              "    <tr>\n",
              "      <th>0</th>\n",
              "      <td>-0.585616</td>\n",
              "    </tr>\n",
              "    <tr>\n",
              "      <th>1</th>\n",
              "      <td>-0.656267</td>\n",
              "    </tr>\n",
              "    <tr>\n",
              "      <th>2</th>\n",
              "      <td>-0.578863</td>\n",
              "    </tr>\n",
              "    <tr>\n",
              "      <th>3</th>\n",
              "      <td>-0.665463</td>\n",
              "    </tr>\n",
              "    <tr>\n",
              "      <th>4</th>\n",
              "      <td>-0.694131</td>\n",
              "    </tr>\n",
              "    <tr>\n",
              "      <th>5</th>\n",
              "      <td>-0.627587</td>\n",
              "    </tr>\n",
              "    <tr>\n",
              "      <th>6</th>\n",
              "      <td>-0.628860</td>\n",
              "    </tr>\n",
              "    <tr>\n",
              "      <th>7</th>\n",
              "      <td>-0.670096</td>\n",
              "    </tr>\n",
              "    <tr>\n",
              "      <th>8</th>\n",
              "      <td>-0.666803</td>\n",
              "    </tr>\n",
              "    <tr>\n",
              "      <th>9</th>\n",
              "      <td>-0.537779</td>\n",
              "    </tr>\n",
              "    <tr>\n",
              "      <th>10</th>\n",
              "      <td>0.389200</td>\n",
              "    </tr>\n",
              "    <tr>\n",
              "      <th>11</th>\n",
              "      <td>1.176906</td>\n",
              "    </tr>\n",
              "    <tr>\n",
              "      <th>12</th>\n",
              "      <td>0.908525</td>\n",
              "    </tr>\n",
              "    <tr>\n",
              "      <th>13</th>\n",
              "      <td>1.608859</td>\n",
              "    </tr>\n",
              "    <tr>\n",
              "      <th>14</th>\n",
              "      <td>1.521282</td>\n",
              "    </tr>\n",
              "    <tr>\n",
              "      <th>15</th>\n",
              "      <td>1.341504</td>\n",
              "    </tr>\n",
              "    <tr>\n",
              "      <th>16</th>\n",
              "      <td>0.708403</td>\n",
              "    </tr>\n",
              "  </tbody>\n",
              "</table>\n",
              "</div>\n",
              "      <button class=\"colab-df-convert\" onclick=\"convertToInteractive('df-1ef5ef0b-f208-471a-b101-c48250730b66')\"\n",
              "              title=\"Convert this dataframe to an interactive table.\"\n",
              "              style=\"display:none;\">\n",
              "        \n",
              "  <svg xmlns=\"http://www.w3.org/2000/svg\" height=\"24px\"viewBox=\"0 0 24 24\"\n",
              "       width=\"24px\">\n",
              "    <path d=\"M0 0h24v24H0V0z\" fill=\"none\"/>\n",
              "    <path d=\"M18.56 5.44l.94 2.06.94-2.06 2.06-.94-2.06-.94-.94-2.06-.94 2.06-2.06.94zm-11 1L8.5 8.5l.94-2.06 2.06-.94-2.06-.94L8.5 2.5l-.94 2.06-2.06.94zm10 10l.94 2.06.94-2.06 2.06-.94-2.06-.94-.94-2.06-.94 2.06-2.06.94z\"/><path d=\"M17.41 7.96l-1.37-1.37c-.4-.4-.92-.59-1.43-.59-.52 0-1.04.2-1.43.59L10.3 9.45l-7.72 7.72c-.78.78-.78 2.05 0 2.83L4 21.41c.39.39.9.59 1.41.59.51 0 1.02-.2 1.41-.59l7.78-7.78 2.81-2.81c.8-.78.8-2.07 0-2.86zM5.41 20L4 18.59l7.72-7.72 1.47 1.35L5.41 20z\"/>\n",
              "  </svg>\n",
              "      </button>\n",
              "      \n",
              "  <style>\n",
              "    .colab-df-container {\n",
              "      display:flex;\n",
              "      flex-wrap:wrap;\n",
              "      gap: 12px;\n",
              "    }\n",
              "\n",
              "    .colab-df-convert {\n",
              "      background-color: #E8F0FE;\n",
              "      border: none;\n",
              "      border-radius: 50%;\n",
              "      cursor: pointer;\n",
              "      display: none;\n",
              "      fill: #1967D2;\n",
              "      height: 32px;\n",
              "      padding: 0 0 0 0;\n",
              "      width: 32px;\n",
              "    }\n",
              "\n",
              "    .colab-df-convert:hover {\n",
              "      background-color: #E2EBFA;\n",
              "      box-shadow: 0px 1px 2px rgba(60, 64, 67, 0.3), 0px 1px 3px 1px rgba(60, 64, 67, 0.15);\n",
              "      fill: #174EA6;\n",
              "    }\n",
              "\n",
              "    [theme=dark] .colab-df-convert {\n",
              "      background-color: #3B4455;\n",
              "      fill: #D2E3FC;\n",
              "    }\n",
              "\n",
              "    [theme=dark] .colab-df-convert:hover {\n",
              "      background-color: #434B5C;\n",
              "      box-shadow: 0px 1px 3px 1px rgba(0, 0, 0, 0.15);\n",
              "      filter: drop-shadow(0px 1px 2px rgba(0, 0, 0, 0.3));\n",
              "      fill: #FFFFFF;\n",
              "    }\n",
              "  </style>\n",
              "\n",
              "      <script>\n",
              "        const buttonEl =\n",
              "          document.querySelector('#df-1ef5ef0b-f208-471a-b101-c48250730b66 button.colab-df-convert');\n",
              "        buttonEl.style.display =\n",
              "          google.colab.kernel.accessAllowed ? 'block' : 'none';\n",
              "\n",
              "        async function convertToInteractive(key) {\n",
              "          const element = document.querySelector('#df-1ef5ef0b-f208-471a-b101-c48250730b66');\n",
              "          const dataTable =\n",
              "            await google.colab.kernel.invokeFunction('convertToInteractive',\n",
              "                                                     [key], {});\n",
              "          if (!dataTable) return;\n",
              "\n",
              "          const docLinkHtml = 'Like what you see? Visit the ' +\n",
              "            '<a target=\"_blank\" href=https://colab.research.google.com/notebooks/data_table.ipynb>data table notebook</a>'\n",
              "            + ' to learn more about interactive tables.';\n",
              "          element.innerHTML = '';\n",
              "          dataTable['output_type'] = 'display_data';\n",
              "          await google.colab.output.renderOutput(dataTable, element);\n",
              "          const docLink = document.createElement('div');\n",
              "          docLink.innerHTML = docLinkHtml;\n",
              "          element.appendChild(docLink);\n",
              "        }\n",
              "      </script>\n",
              "    </div>\n",
              "  </div>\n",
              "  "
            ],
            "text/plain": [
              "           0\n",
              "0  -0.585616\n",
              "1  -0.656267\n",
              "2  -0.578863\n",
              "3  -0.665463\n",
              "4  -0.694131\n",
              "5  -0.627587\n",
              "6  -0.628860\n",
              "7  -0.670096\n",
              "8  -0.666803\n",
              "9  -0.537779\n",
              "10  0.389200\n",
              "11  1.176906\n",
              "12  0.908525\n",
              "13  1.608859\n",
              "14  1.521282\n",
              "15  1.341504\n",
              "16  0.708403"
            ]
          },
          "execution_count": 98,
          "metadata": {},
          "output_type": "execute_result"
        }
      ],
      "source": [
        "pd.DataFrame(stacked_prediction)"
      ]
    },
    {
      "cell_type": "code",
      "execution_count": null,
      "id": "PvvxwvEfz2b9",
      "metadata": {
        "id": "PvvxwvEfz2b9"
      },
      "outputs": [],
      "source": []
    }
  ],
  "metadata": {
    "colab": {
      "collapsed_sections": [],
      "provenance": []
    },
    "gpuClass": "premium",
    "kernelspec": {
      "display_name": "Python 3.8.13 ('ml')",
      "language": "python",
      "name": "python3"
    },
    "language_info": {
      "codemirror_mode": {
        "name": "ipython",
        "version": 3
      },
      "file_extension": ".py",
      "mimetype": "text/x-python",
      "name": "python",
      "nbconvert_exporter": "python",
      "pygments_lexer": "ipython3",
      "version": "3.8.13"
    },
    "vscode": {
      "interpreter": {
        "hash": "2b338e1ebdc85b878dc81ea058f20b659780bac2cb1a796931e4defa97a9d4b3"
      }
    }
  },
  "nbformat": 4,
  "nbformat_minor": 5
}
